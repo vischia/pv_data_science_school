{
 "cells": [
  {
   "cell_type": "markdown",
   "id": "88f0ddb3-0295-475e-b20d-fbfc89435dfc",
   "metadata": {},
   "source": [
    "# Machine Learning School, ICNFP 2025 edition\n",
    "\n",
    "## Please run this before the school, to be kind on the institute's wifi\n",
    "\n",
    "## Pietro Vischia (Universidad de Oviedo and ICTEA), pietro.vischia@cern.ch"
   ]
  },
  {
   "cell_type": "markdown",
   "id": "133e9910-db5f-4241-aa6d-d8b67b58395b",
   "metadata": {},
   "source": [
    "Decide if you want to run locally on colab and change the following variable appropriately"
   ]
  },
  {
   "cell_type": "code",
   "execution_count": null,
   "id": "62a77d96-a04e-42a1-b677-3b7fa402026c",
   "metadata": {},
   "outputs": [],
   "source": [
    "runOnColab = False"
   ]
  },
  {
   "cell_type": "markdown",
   "id": "82ea1afe-fdc5-4a52-9398-652831aca0f6",
   "metadata": {},
   "source": [
    "Now in principle you can just run the following lines more or less blindly"
   ]
  },
  {
   "cell_type": "code",
   "execution_count": null,
   "id": "fdf43e30-a925-4f97-b58e-4032d02eb17e",
   "metadata": {},
   "outputs": [],
   "source": [
    "if runOnColab:\n",
    "    from google.colab import drive\n",
    "    drive.mount('/content/drive')\n",
    "    %cd \"/content/drive/MyDrive/\"\n"
   ]
  },
  {
   "cell_type": "code",
   "execution_count": null,
   "id": "9d8c00f9-4cba-4dc5-bd0b-6f70a39aaa93",
   "metadata": {},
   "outputs": [],
   "source": [
    "import os"
   ]
  },
  {
   "cell_type": "code",
   "execution_count": null,
   "id": "bce6ba30-79b6-4899-9b75-62376add0dd8",
   "metadata": {},
   "outputs": [],
   "source": [
    "# Exercise 1\n",
    "\n",
    "if not os.path.isfile(\"data/signal_blind20.root\"): \n",
    "    !mkdir data; cd data/; wget https://www.hep.uniovi.es/vischia/lisbon_ml_school/lisbon_ml_school_tth.tar.gz; tar xzvf lisbon_ml_school_tth.tar.gz; rm lisbon_ml_school_tth.tar.gz; cd -;\n"
   ]
  },
  {
   "cell_type": "code",
   "execution_count": null,
   "id": "c1cac4d0-5f61-495f-82bf-5fd2f0ebb277",
   "metadata": {},
   "outputs": [],
   "source": [
    "%ls data"
   ]
  },
  {
   "cell_type": "code",
   "execution_count": null,
   "id": "9c63d051-48ad-4d53-bcbd-e73ed0d1ec25",
   "metadata": {},
   "outputs": [],
   "source": []
  }
 ],
 "metadata": {
  "kernelspec": {
   "display_name": "Python 3 (ipykernel)",
   "language": "python",
   "name": "python3"
  },
  "language_info": {
   "codemirror_mode": {
    "name": "ipython",
    "version": 3
   },
   "file_extension": ".py",
   "mimetype": "text/x-python",
   "name": "python",
   "nbconvert_exporter": "python",
   "pygments_lexer": "ipython3",
   "version": "3.10.18"
  }
 },
 "nbformat": 4,
 "nbformat_minor": 5
}
